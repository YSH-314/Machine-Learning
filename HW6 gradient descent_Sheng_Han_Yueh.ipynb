{
 "cells": [
  {
   "cell_type": "markdown",
   "id": "eb88ea84",
   "metadata": {},
   "source": [
    "## 1. Implement Matrix Factorization using numpy (70 points)"
   ]
  },
  {
   "cell_type": "code",
   "execution_count": 1,
   "id": "8b44f333",
   "metadata": {},
   "outputs": [],
   "source": [
    "import numpy as np\n",
    "import matplotlib.pyplot as plt"
   ]
  },
  {
   "cell_type": "code",
   "execution_count": 2,
   "id": "31b14592",
   "metadata": {},
   "outputs": [],
   "source": [
    "def matrix_factorization(A, K, steps, alpha, beta):\n",
    "    \"\"\"\n",
    "    A: user-item rating matrix\n",
    "    K: number of latent features\n",
    "    steps: number of iterations to perform the optimization\n",
    "    alpha: learning rate\n",
    "    beta: regularization parameter\n",
    "    \"\"\"\n",
    "    tol=0.001\n",
    "    ite = 0\n",
    "    m, n = A.shape\n",
    "    C = np.random.rand(m,K)\n",
    "    U = np.random.rand(n,K)\n",
    "    J_list=[]\n",
    "    error_list=[]\n",
    "    for step in range(steps):\n",
    "        E = A-(C @ U.T)\n",
    "        J = (E**2).sum()+beta*((C**2).sum()+(U**2).sum())\n",
    "        \n",
    "        grad_C = 2*E @ U- beta*C\n",
    "        grad_U = 2*E.T @ C- beta*U\n",
    "        C = C + alpha*grad_C\n",
    "        U = U + alpha*grad_U\n",
    "        ite +=1\n",
    "        J_list.append(J)\n",
    "        error_list.append((E**2).sum())\n",
    "        if J <= tol:\n",
    "            break\n",
    "    return C, U, J_list, error_list, ite\n",
    "    "
   ]
  },
  {
   "cell_type": "code",
   "execution_count": 3,
   "id": "21eae2d6",
   "metadata": {},
   "outputs": [
    {
     "name": "stdout",
     "output_type": "stream",
     "text": [
      "C:\n",
      "\n",
      "[[-0.3438918  -0.18912095  2.20663139]\n",
      " [-0.04581021 -0.26869227  1.44495712]\n",
      " [ 1.80658057  0.05964305  0.86544602]\n",
      " [ 1.46929431 -0.0033509   0.64946485]\n",
      " [ 0.62701422  2.24984702  0.58397534]]\n",
      "\n",
      "U:\n",
      "\n",
      "[[-0.43857285 -0.48647861  2.29792788]\n",
      " [-0.16131735  0.26963234  0.96952374]\n",
      " [-0.14036371  2.18621154  0.23474457]\n",
      " [ 2.30682231  0.89692784  0.90220505]]\n",
      "\n",
      "C @ U:\n",
      "\n",
      "[[ 5.31350469  2.1438641   0.15280625  1.02790884]\n",
      " [ 3.47121141  1.33586208 -0.24179221  0.95697402]\n",
      " [ 1.16740028  0.56371937  0.07997274  5.00176566]\n",
      " [ 0.84966095  0.39174541 -0.06110303  3.97234584]\n",
      " [-0.02756065  1.07166121  4.96771653  3.99122632]]\n"
     ]
    }
   ],
   "source": [
    "# show the results of A\n",
    "A = np.array([[5, 3, 0, 1],\n",
    "              [4, 0, 0, 1],\n",
    "              [1, 1, 0, 5],\n",
    "              [1, 0, 0, 4],\n",
    "              [0, 1, 5, 4]])\n",
    "\n",
    "\n",
    "C, U, J_list, error_list, ite = matrix_factorization(A,3,1000,1e-03,0.04)\n",
    "print('C:\\n')\n",
    "print(C)\n",
    "print()\n",
    "print('U:\\n')\n",
    "print(U)\n",
    "print()\n",
    "print('C @ U:\\n')\n",
    "print(C@U.T)"
   ]
  },
  {
   "cell_type": "code",
   "execution_count": 10,
   "id": "c9ccb2c6",
   "metadata": {},
   "outputs": [
    {
     "name": "stdout",
     "output_type": "stream",
     "text": [
      "1000\n"
     ]
    }
   ],
   "source": [
    "print(ite)"
   ]
  },
  {
   "cell_type": "code",
   "execution_count": 4,
   "id": "57d22967",
   "metadata": {},
   "outputs": [
    {
     "data": {
      "text/plain": [
       "3.392183272527852"
      ]
     },
     "execution_count": 4,
     "metadata": {},
     "output_type": "execute_result"
    }
   ],
   "source": [
    "((A-C@U.T)**2).sum()"
   ]
  },
  {
   "cell_type": "markdown",
   "id": "71c863f4",
   "metadata": {},
   "source": [
    "## 2. Plot the error of SGD (10 points)\n"
   ]
  },
  {
   "cell_type": "code",
   "execution_count": 5,
   "id": "ab491b53",
   "metadata": {},
   "outputs": [
    {
     "data": {
      "text/plain": [
       "Text(0, 0.5, 'L(C,U)')"
      ]
     },
     "execution_count": 5,
     "metadata": {},
     "output_type": "execute_result"
    },
    {
     "data": {
      "image/png": "[encoded data removed]",
      "text/plain": [
       "<Figure size 864x432 with 2 Axes>"
      ]
     },
     "metadata": {
      "needs_background": "light"
     },
     "output_type": "display_data"
    }
   ],
   "source": [
    "plt.figure(figsize=(12,6))\n",
    "plt.subplot(121)\n",
    "plt.plot([i for i in range(ite)], error_list)\n",
    "plt.xlabel('iterations')\n",
    "plt.ylabel('erre')\n",
    "\n",
    "plt.subplot(122)\n",
    "plt.plot([i for i in range(ite)], J_list)\n",
    "plt.xlabel('iterations')\n",
    "plt.ylabel('L(C,U)')"
   ]
  },
  {
   "cell_type": "markdown",
   "id": "6a119743",
   "metadata": {},
   "source": [
    "* Ref: https://everdark.github.io/k9/notebooks/ml/matrix_factorization/matrix_factorization.nb.html"
   ]
  },
  {
   "cell_type": "markdown",
   "id": "7a2ab8c3",
   "metadata": {},
   "source": [
    "## 3. Compare the results with NMF from sklearn (10 points)"
   ]
  },
  {
   "cell_type": "code",
   "execution_count": 6,
   "id": "ce5724ae",
   "metadata": {},
   "outputs": [],
   "source": [
    "from sklearn.decomposition import non_negative_factorization\n",
    "W, H, n_iter = non_negative_factorization(A,n_components=3, init='random', random_state=0, tol=0.001 )"
   ]
  },
  {
   "cell_type": "code",
   "execution_count": 7,
   "id": "4ff35975",
   "metadata": {},
   "outputs": [
    {
     "name": "stdout",
     "output_type": "stream",
     "text": [
      "W:\n",
      "\n",
      "[[0.08680974 2.03338616 0.52170927]\n",
      " [0.         1.31721999 0.59967101]\n",
      " [0.04447748 0.42614869 3.42359846]\n",
      " [0.         0.304912   2.75734728]\n",
      " [2.62443471 0.         0.91745677]]\n",
      "\n",
      "H:\n",
      "\n",
      "[[0.         0.38384211 1.90254413 1.02098029]\n",
      " [2.62030274 1.02901848 0.         0.08632913]\n",
      " [0.015038   0.03054444 0.         1.4386465 ]]\n",
      "\n",
      "W @ H:\n",
      "\n",
      "[[5.3359328  2.1416485  0.16515937 1.0147267 ]\n",
      " [3.46053299 1.37376033 0.         0.97642905]\n",
      " [1.16812266 0.56015912 0.08462036 5.0075476 ]\n",
      " [0.84042674 0.39798172 0.         3.9931708 ]\n",
      " [0.01379671 1.03539176 4.99310284 3.99939208]]\n"
     ]
    }
   ],
   "source": [
    "print('W:\\n')\n",
    "print(W)\n",
    "print()\n",
    "print('H:\\n')\n",
    "print(H)\n",
    "print()\n",
    "print('W @ H:\\n')\n",
    "print(W@H)"
   ]
  },
  {
   "cell_type": "code",
   "execution_count": 8,
   "id": "38e838ea",
   "metadata": {},
   "outputs": [
    {
     "name": "stdout",
     "output_type": "stream",
     "text": [
      "20\n"
     ]
    }
   ],
   "source": [
    "print(n_iter)"
   ]
  },
  {
   "cell_type": "code",
   "execution_count": 9,
   "id": "5c58fe6f",
   "metadata": {},
   "outputs": [
    {
     "data": {
      "text/plain": [
       "3.470243704296629"
      ]
     },
     "execution_count": 9,
     "metadata": {},
     "output_type": "execute_result"
    }
   ],
   "source": [
    "((A-W@H)**2).sum()"
   ]
  },
  {
   "cell_type": "markdown",
   "id": "2ace96cb",
   "metadata": {},
   "source": [
    "* Ref: https://scikit-learn.org/stable/modules/generated/sklearn.decomposition.non_negative_factorization.html"
   ]
  },
  {
   "cell_type": "markdown",
   "id": "349bd5f1",
   "metadata": {},
   "source": [
    "## 4. Explain the differences and why (10 points)"
   ]
  },
  {
   "cell_type": "markdown",
   "id": "df6bef77",
   "metadata": {},
   "source": [
    "NFM achieved lower error with fewer iterations compared to my self-defined function. I got different results for decomposed matrix and the NMF method got the same results in several runs. The difference is the way to initialize the C (W) and U (H). NMF utilized `sqrt(X.mean() / n_components)` to scale the initial random matrix. The randomized initialized matrix might cause the cost function not to converge to a minimum. A rescale factor makes sure the random values in W and H are proportional to the entries in A, avoiding some elements in A being much larger than others, which can lead to numerical instability."
   ]
  },
  {
   "cell_type": "code",
   "execution_count": null,
   "id": "c8260663",
   "metadata": {},
   "outputs": [],
   "source": []
  }
 ],
 "metadata": {
  "kernelspec": {
   "display_name": "Python 3",
   "language": "python",
   "name": "python3"
  },
  "language_info": {
   "codemirror_mode": {
    "name": "ipython",
    "version": 3
   },
   "file_extension": ".py",
   "mimetype": "text/x-python",
   "name": "python",
   "nbconvert_exporter": "python",
   "pygments_lexer": "ipython3",
   "version": "3.6.3"
  }
 },
 "nbformat": 4,
 "nbformat_minor": 5
}
